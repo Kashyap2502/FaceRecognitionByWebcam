{
 "cells": [
  {
   "cell_type": "code",
   "execution_count": 23,
   "id": "f85e1c59",
   "metadata": {},
   "outputs": [],
   "source": [
    "import face_recognition\n",
    "import cv2\n",
    "import os\n",
    "import glob\n",
    "import numpy as np\n",
    "import time\n",
    "import pickle\n",
    "from Facerec import Facerec\n",
    "import time"
   ]
  },
  {
   "cell_type": "code",
   "execution_count": 24,
   "id": "4daeff2e",
   "metadata": {},
   "outputs": [],
   "source": [
    "validation_path=\"D:\\\\si\\\\Faces for Training\\\\v1\""
   ]
  },
  {
   "cell_type": "code",
   "execution_count": 25,
   "id": "6bd3149b",
   "metadata": {},
   "outputs": [],
   "source": [
    "fr=Facerec()\n",
    "file_path=os.path.join(validation_path,\"ans.txt\")"
   ]
  },
  {
   "cell_type": "code",
   "execution_count": 30,
   "id": "374b90aa",
   "metadata": {},
   "outputs": [],
   "source": [
    "images_path = glob.glob(os.path.join(\"D:\\\\si\\\\Faces for Training\\\\Data for Testing\", \"*.*\"))\n",
    "flag=0\n",
    "file=open(file_path,\"w\")\n",
    "for img_path in images_path:\n",
    "    img=cv2.imread(img_path)\n",
    "    t=time.time()\n",
    "    boxes,names,accs=fr.detect_known_faces(img)\n",
    "    if len(boxes)==0:\n",
    "        vt=time.time()-t\n",
    "        save_path=os.path.join(validation_path,\"UnableToDetect\")\n",
    "        bname=os.path.basename(img_path)\n",
    "#         basename = os.path.basename(img_path)\n",
    "        (fname, ext) = os.path.splitext(bname)\n",
    "        file.write(\"Source Image : \"+fname+\"  ;  Number of faces : \"+str(len(boxes))+\"  ;  Recognized ID : Unable To Detect  ;  Confidence : 0.0  ; Time : \"+str(vt)+'\\n')\n",
    "        \n",
    "        if not(os.path.isdir(save_path)):\n",
    "            os.mkdir(save_path)\n",
    "        save=os.path.join(save_path,bname)\n",
    "        cv2.imwrite(save,img)\n",
    "    else:  \n",
    "        m=0\n",
    "        for i in range(len(names)):\n",
    "            \n",
    "            if names[i]!=\"Unknown\":\n",
    "                l=boxes[i][3]-boxes[i][1]\n",
    "                b=boxes[i][0]-boxes[i][2]\n",
    "                a=l*b\n",
    "                if(m<a):\n",
    "                    box=boxes[i]\n",
    "                    name=names[i]\n",
    "                    m=a\n",
    "                    acc=accs[i]\n",
    "                    flag=1\n",
    "        if flag==0:\n",
    "            box=boxes[0]\n",
    "            name=names[0]\n",
    "            acc=accs[0]\n",
    "            \n",
    "        bname=os.path.basename(img_path)\n",
    "#         basename = os.path.basename(img_path)\n",
    "        (fname, ext) = os.path.splitext(bname)\n",
    "        img=cv2.rectangle(img,(box[3],box[0]),(box[1],box[2]),(0,255,0),2)\n",
    "        img=cv2.putText(img,\"{0:.2f}\".format(acc*100),(box[3],box[0]-10), cv2.FONT_HERSHEY_DUPLEX, 1,(0,255,0),2)\n",
    "        vt=time.time()-t\n",
    "        save_path=os.path.join(validation_path,name)\n",
    "        if not(os.path.isdir(save_path)):\n",
    "            os.mkdir(save_path)\n",
    "        save=os.path.join(save_path,name+\"_\"+\"{0:.2f}\".format(acc*100)+\"_\"+fname+\".jpg\")\n",
    "        cv2.imwrite(save,img)\n",
    "#         print(\"Source Image : \"+fname+\"  ;  Number of faces : \"+str(len(boxes))+\"  ;  Recognized ID : \"+name+\"  ;  Confidence : {0:.2f}\".format(acc*100)+\"  ; Time : \"+str(vt)+'\\n')\n",
    "        file.write(\"Source Image : \"+fname+\"  ;  Number of faces : \"+str(len(boxes))+\"  ;  Recognized ID : \"+name+\"  ;  Confidence : {0:.2f}\".format(acc*100)+\"  ; Time : \"+str(vt)+'\\n\\n')\n",
    "        \n",
    "        flag=0\n",
    "    \n",
    "file.close()"
   ]
  },
  {
   "cell_type": "code",
   "execution_count": null,
   "id": "e0743fab",
   "metadata": {},
   "outputs": [],
   "source": []
  }
 ],
 "metadata": {
  "kernelspec": {
   "display_name": "Python 3 (ipykernel)",
   "language": "python",
   "name": "python3"
  },
  "language_info": {
   "codemirror_mode": {
    "name": "ipython",
    "version": 3
   },
   "file_extension": ".py",
   "mimetype": "text/x-python",
   "name": "python",
   "nbconvert_exporter": "python",
   "pygments_lexer": "ipython3",
   "version": "3.9.12"
  }
 },
 "nbformat": 4,
 "nbformat_minor": 5
}
