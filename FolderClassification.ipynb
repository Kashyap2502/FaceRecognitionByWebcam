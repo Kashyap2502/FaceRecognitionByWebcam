{
 "cells": [
  {
   "cell_type": "code",
   "execution_count": 1,
   "id": "840fef1e",
   "metadata": {},
   "outputs": [],
   "source": [
    "import face_recognition\n",
    "import cv2\n",
    "import os\n",
    "import glob\n",
    "import numpy as np\n",
    "import time\n",
    "import pickle\n",
    "from Facerec import Facerec"
   ]
  },
  {
   "cell_type": "code",
   "execution_count": 4,
   "id": "f25a6153",
   "metadata": {},
   "outputs": [],
   "source": [
    "validation_path=\"D:\\\\si\\\\Faces for Training\\\\Validation\""
   ]
  },
  {
   "cell_type": "code",
   "execution_count": 5,
   "id": "36457fae",
   "metadata": {},
   "outputs": [],
   "source": [
    "fr=Facerec()"
   ]
  },
  {
   "cell_type": "code",
   "execution_count": 25,
   "id": "2a0c326f",
   "metadata": {},
   "outputs": [],
   "source": [
    "images_path = glob.glob(os.path.join(\"D:\\\\si\\\\Faces for Training\\\\Data for Testing\", \"*.*\"))\n",
    "flag=0\n",
    "for img_path in images_path:\n",
    "    img=cv2.imread(img_path)\n",
    "    box,name,acc=fr.detect_known_faces(img)\n",
    "    if len(box)==0:\n",
    "        save_path=os.path.join(validation_path,\"UnableToDetect\")\n",
    "        if not(os.path.isdir(save_path)):\n",
    "            os.mkdir(save_path)\n",
    "        save=os.path.join(save_path,bname)\n",
    "        cv2.imwrite(save,img)\n",
    "    else:  \n",
    "        for i in range(len(name)):\n",
    "            if name[i]!=\"Unknown\":\n",
    "                box=box[i]\n",
    "                name=name[i]\n",
    "                \n",
    "                acc=acc[i]\n",
    "                flag=1\n",
    "                break\n",
    "        if flag==0:\n",
    "            box=box[0]\n",
    "            name=name[0]\n",
    "            acc=acc[0]\n",
    "            \n",
    "        bname=os.path.basename(img_path)\n",
    "        img=cv2.rectangle(img,(box[3],box[0]),(box[1],box[2]),(0,255,0),2)\n",
    "        img=cv2.putText(img,\"{0:.2f}\".format(acc*100),(box[3],box[0]-10), cv2.FONT_HERSHEY_DUPLEX, 1,(0,255,0),2)\n",
    "        save_path=os.path.join(validation_path,name)\n",
    "        if not(os.path.isdir(save_path)):\n",
    "            os.mkdir(save_path)\n",
    "        save=os.path.join(save_path,bname)\n",
    "        cv2.imwrite(save,img)\n",
    "        flag=0\n",
    "    \n",
    "    "
   ]
  },
  {
   "cell_type": "code",
   "execution_count": null,
   "id": "ceb1c85b",
   "metadata": {},
   "outputs": [],
   "source": []
  }
 ],
 "metadata": {
  "kernelspec": {
   "display_name": "Python 3 (ipykernel)",
   "language": "python",
   "name": "python3"
  },
  "language_info": {
   "codemirror_mode": {
    "name": "ipython",
    "version": 3
   },
   "file_extension": ".py",
   "mimetype": "text/x-python",
   "name": "python",
   "nbconvert_exporter": "python",
   "pygments_lexer": "ipython3",
   "version": "3.9.12"
  }
 },
 "nbformat": 4,
 "nbformat_minor": 5
}
