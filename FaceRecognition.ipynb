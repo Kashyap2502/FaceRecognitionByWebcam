{
 "cells": [
  {
   "cell_type": "code",
   "execution_count": 9,
   "id": "97d437db",
   "metadata": {},
   "outputs": [],
   "source": [
    "import face_recognition\n",
    "import cv2\n",
    "import os\n",
    "import glob\n",
    "import numpy as np\n",
    "import time\n",
    "import pickle\n",
    "from Facerec import Facerec"
   ]
  },
  {
   "cell_type": "code",
   "execution_count": 10,
   "id": "bbcd27e1",
   "metadata": {},
   "outputs": [],
   "source": [
    "\n",
    "sfr = Facerec()\n",
    "# sfr.load_encoding_images(\"D:\\\\si\")\n",
    "\n",
    "with open('encodings', 'rb') as f: \n",
    "    faces = pickle.load(f) \n",
    "    names=pickle.load(f)\n",
    "\n",
    "face_locations=[]\n",
    "face_names=[]\n",
    "flag=0\n",
    "cap = cv2.VideoCapture(0)\n",
    "\n",
    "\n",
    "while True:\n",
    "    ret, frame = cap.read()\n",
    "   \n",
    "    if len(faces)>=1:\n",
    "        face_locations, face_names = sfr.detect_known_faces(frame)\n",
    "    elif flag==0:\n",
    "        print(\"No face recorded yet\")\n",
    "        flag=1\n",
    "    for face_loc, name in zip(face_locations, face_names):\n",
    "        y1, x2, y2, x1 = face_loc[0], face_loc[1], face_loc[2], face_loc[3]\n",
    "\n",
    "        cv2.putText(frame, name,(x1, y1 - 10), cv2.FONT_HERSHEY_DUPLEX, 1, (0, 0, 200), 2)\n",
    "        cv2.rectangle(frame, (x1, y1), (x2, y2), (0, 0, 200), 4)\n",
    "\n",
    "    cv2.imshow(\"Frame\", frame)\n",
    "\n",
    "    key = cv2.waitKey(1)\n",
    "    if key == 27:\n",
    "        break\n",
    "\n",
    "cap.release()\n",
    "cv2.destroyAllWindows()"
   ]
  },
  {
   "cell_type": "code",
   "execution_count": null,
   "id": "132dcc5a",
   "metadata": {},
   "outputs": [],
   "source": []
  }
 ],
 "metadata": {
  "kernelspec": {
   "display_name": "Python 3 (ipykernel)",
   "language": "python",
   "name": "python3"
  },
  "language_info": {
   "codemirror_mode": {
    "name": "ipython",
    "version": 3
   },
   "file_extension": ".py",
   "mimetype": "text/x-python",
   "name": "python",
   "nbconvert_exporter": "python",
   "pygments_lexer": "ipython3",
   "version": "3.9.12"
  }
 },
 "nbformat": 4,
 "nbformat_minor": 5
}
