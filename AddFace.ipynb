{
 "cells": [
  {
   "cell_type": "code",
   "execution_count": 3,
   "id": "7024b319",
   "metadata": {},
   "outputs": [],
   "source": [
    "import face_recognition\n",
    "import cv2\n",
    "import os\n",
    "import glob\n",
    "import numpy as np\n",
    "import time\n",
    "import pickle"
   ]
  },
  {
   "cell_type": "code",
   "execution_count": 4,
   "id": "29eb0b3d",
   "metadata": {
    "scrolled": true
   },
   "outputs": [
    {
     "name": "stdout",
     "output_type": "stream",
     "text": [
      "Your face saved please enter your name : Kashyap\n"
     ]
    }
   ],
   "source": [
    "with open('encodings', 'rb') as f: \n",
    "    faces = pickle.load(f) \n",
    "    names=pickle.load(f)\n",
    "vid=cv2.VideoCapture(0)\n",
    "t=time.time()\n",
    "flag=0\n",
    "while True:\n",
    "    _,frame=vid.read()\n",
    "    f1=np.copy(frame)\n",
    "    cv2.imshow(\"one\",frame)\n",
    "    if time.time()-t>=5 and time.time()-t<=7:\n",
    "        f1=cv2.cvtColor(f1,cv2.COLOR_BGR2RGB)\n",
    "        location=face_recognition.face_locations(f1)\n",
    "        encodings=face_recognition.face_encodings(f1,location)\n",
    "        for encoding in encodings:\n",
    "            for i in faces:\n",
    "                matches = face_recognition.compare_faces(i, encoding)\n",
    "                face_distances = face_recognition.face_distance(i, encoding)\n",
    "                best_match_index = np.argmin(face_distances)\n",
    "                if matches[best_match_index]:\n",
    "                    print(\"This Face already recorded \")\n",
    "                    flag=1\n",
    "        vid.release()\n",
    "        cv2.destroyAllWindows()\n",
    "        break\n",
    "    if cv2.waitKey(1)==27:\n",
    "        vid.release()\n",
    "        cv2.destroyAllWindows()\n",
    "        break\n",
    "if len(encodings)>=1 and flag==0:\n",
    "    name=input(\"Your face saved please enter your name : \")\n",
    "    names.append(name)\n",
    "    faces.append(encodings[0])\n",
    "    with open('encodings', 'wb') as f: \n",
    "        pickle.dump(faces, f) \n",
    "        pickle.dump(names,f)"
   ]
  },
  {
   "cell_type": "code",
   "execution_count": null,
   "id": "b9c6309a",
   "metadata": {},
   "outputs": [],
   "source": []
  },
  {
   "cell_type": "code",
   "execution_count": null,
   "id": "165eb696",
   "metadata": {},
   "outputs": [],
   "source": []
  },
  {
   "cell_type": "code",
   "execution_count": null,
   "id": "0969fff5",
   "metadata": {},
   "outputs": [],
   "source": []
  },
  {
   "cell_type": "code",
   "execution_count": null,
   "id": "60f253a4",
   "metadata": {},
   "outputs": [],
   "source": []
  }
 ],
 "metadata": {
  "kernelspec": {
   "display_name": "Python 3 (ipykernel)",
   "language": "python",
   "name": "python3"
  },
  "language_info": {
   "codemirror_mode": {
    "name": "ipython",
    "version": 3
   },
   "file_extension": ".py",
   "mimetype": "text/x-python",
   "name": "python",
   "nbconvert_exporter": "python",
   "pygments_lexer": "ipython3",
   "version": "3.9.12"
  }
 },
 "nbformat": 4,
 "nbformat_minor": 5
}
