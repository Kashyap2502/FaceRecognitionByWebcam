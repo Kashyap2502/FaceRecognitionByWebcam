{
 "cells": [
  {
   "cell_type": "code",
   "execution_count": 4,
   "id": "35dabb4e",
   "metadata": {},
   "outputs": [],
   "source": [
    "import pickle"
   ]
  },
  {
   "cell_type": "code",
   "execution_count": 5,
   "id": "f193c273",
   "metadata": {},
   "outputs": [],
   "source": [
    "faces=[]\n",
    "names=[]"
   ]
  },
  {
   "cell_type": "code",
   "execution_count": 6,
   "id": "6dfe60ee",
   "metadata": {},
   "outputs": [],
   "source": [
    "with open('encodings', 'wb') as f: \n",
    "    pickle.dump(faces, f) \n",
    "    pickle.dump(names,f)"
   ]
  },
  {
   "cell_type": "code",
   "execution_count": null,
   "id": "6cdf4324",
   "metadata": {},
   "outputs": [],
   "source": []
  }
 ],
 "metadata": {
  "kernelspec": {
   "display_name": "Python 3 (ipykernel)",
   "language": "python",
   "name": "python3"
  },
  "language_info": {
   "codemirror_mode": {
    "name": "ipython",
    "version": 3
   },
   "file_extension": ".py",
   "mimetype": "text/x-python",
   "name": "python",
   "nbconvert_exporter": "python",
   "pygments_lexer": "ipython3",
   "version": "3.9.12"
  }
 },
 "nbformat": 4,
 "nbformat_minor": 5
}
